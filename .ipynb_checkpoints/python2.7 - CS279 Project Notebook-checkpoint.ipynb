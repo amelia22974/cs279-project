{
 "cells": [
  {
   "cell_type": "markdown",
   "metadata": {},
   "source": [
    "CS279 Project"
   ]
  },
  {
   "cell_type": "code",
   "execution_count": 1,
   "metadata": {},
   "outputs": [
    {
     "data": {
      "text/plain": [
       "<Figure size 640x480 with 1 Axes>"
      ]
     },
     "metadata": {},
     "output_type": "display_data"
    },
    {
     "data": {
      "text/plain": [
       "<Figure size 640x480 with 1 Axes>"
      ]
     },
     "metadata": {},
     "output_type": "display_data"
    }
   ],
   "source": [
    "%run -i threshold.py imgs/trial1.jpg"
   ]
  },
  {
   "cell_type": "code",
   "execution_count": 2,
   "metadata": {},
   "outputs": [
    {
     "name": "stdout",
     "output_type": "stream",
     "text": [
      "usage: /Library/Frameworks/Python.framework/Versions/2.7/lib/python2.7/site-packages/ipykernel_launcher.py <image_file>\n"
     ]
    },
    {
     "ename": "IOError",
     "evalue": "[Errno 2] No such file or directory: '-f'",
     "output_type": "error",
     "traceback": [
      "\u001b[0;31m---------------------------------------------------------------------------\u001b[0m",
      "\u001b[0;31mIOError\u001b[0m                                   Traceback (most recent call last)",
      "\u001b[0;32m<ipython-input-2-4c16573dd676>\u001b[0m in \u001b[0;36m<module>\u001b[0;34m()\u001b[0m\n\u001b[1;32m    127\u001b[0m \u001b[0;34m\u001b[0m\u001b[0m\n\u001b[1;32m    128\u001b[0m     \u001b[0mimage_name\u001b[0m \u001b[0;34m=\u001b[0m \u001b[0msys\u001b[0m\u001b[0;34m.\u001b[0m\u001b[0margv\u001b[0m\u001b[0;34m[\u001b[0m\u001b[0;36m1\u001b[0m\u001b[0;34m]\u001b[0m\u001b[0;34m\u001b[0m\u001b[0m\n\u001b[0;32m--> 129\u001b[0;31m     \u001b[0mimg\u001b[0m \u001b[0;34m=\u001b[0m \u001b[0mImage\u001b[0m\u001b[0;34m.\u001b[0m\u001b[0mopen\u001b[0m\u001b[0;34m(\u001b[0m\u001b[0mimage_name\u001b[0m\u001b[0;34m)\u001b[0m\u001b[0;34m\u001b[0m\u001b[0m\n\u001b[0m\u001b[1;32m    130\u001b[0m     \u001b[0;31m#split_channels(image_name)\u001b[0m\u001b[0;34m\u001b[0m\u001b[0;34m\u001b[0m\u001b[0m\n\u001b[1;32m    131\u001b[0m     \u001b[0mred\u001b[0m\u001b[0;34m,\u001b[0m \u001b[0mgreen\u001b[0m\u001b[0;34m,\u001b[0m \u001b[0mblue\u001b[0m \u001b[0;34m=\u001b[0m \u001b[0msplit_image\u001b[0m\u001b[0;34m(\u001b[0m\u001b[0mimg\u001b[0m\u001b[0;34m)\u001b[0m\u001b[0;34m\u001b[0m\u001b[0m\n",
      "\u001b[0;32m/Library/Frameworks/Python.framework/Versions/2.7/lib/python2.7/site-packages/PIL/Image.pyc\u001b[0m in \u001b[0;36mopen\u001b[0;34m(fp, mode)\u001b[0m\n\u001b[1;32m   2764\u001b[0m \u001b[0;34m\u001b[0m\u001b[0m\n\u001b[1;32m   2765\u001b[0m     \u001b[0;32mif\u001b[0m \u001b[0mfilename\u001b[0m\u001b[0;34m:\u001b[0m\u001b[0;34m\u001b[0m\u001b[0m\n\u001b[0;32m-> 2766\u001b[0;31m         \u001b[0mfp\u001b[0m \u001b[0;34m=\u001b[0m \u001b[0mbuiltins\u001b[0m\u001b[0;34m.\u001b[0m\u001b[0mopen\u001b[0m\u001b[0;34m(\u001b[0m\u001b[0mfilename\u001b[0m\u001b[0;34m,\u001b[0m \u001b[0;34m\"rb\"\u001b[0m\u001b[0;34m)\u001b[0m\u001b[0;34m\u001b[0m\u001b[0m\n\u001b[0m\u001b[1;32m   2767\u001b[0m         \u001b[0mexclusive_fp\u001b[0m \u001b[0;34m=\u001b[0m \u001b[0mTrue\u001b[0m\u001b[0;34m\u001b[0m\u001b[0m\n\u001b[1;32m   2768\u001b[0m \u001b[0;34m\u001b[0m\u001b[0m\n",
      "\u001b[0;31mIOError\u001b[0m: [Errno 2] No such file or directory: '-f'"
     ]
    }
   ],
   "source": [
    "# FILE: threshold.py\n",
    "# This file takes a fluorescence microscopy image of cells labelled with antibodies and thresholds based \n",
    "# on the user's desired color (eventually).\n",
    "\n",
    "import numpy as np\n",
    "import random\n",
    "import math\n",
    "import PIL\n",
    "from PIL import Image, ImageDraw, ImageFilter, ImageOps, ImageEnhance\n",
    "import cv2\n",
    "from matplotlib import pyplot as plt\n",
    "\n",
    "def split_image(image_name):\n",
    "    \"\"\"\n",
    "        PIL image processing to remove background signals. \n",
    "    \"\"\"\n",
    "    #pil_image = Image.fromarray(image_name)\n",
    "    red, green, blue = img.split()\n",
    "\n",
    "    #red.show()\n",
    "    #green.show()\n",
    "    #blue.show()\n",
    "\n",
    "    return red, green, blue\n",
    "\n",
    "\n",
    "def sharpen_image(img):\n",
    "    im = ImageEnhance.Contrast(img).enhance(0.9)\n",
    "\n",
    "def split_channels(img):\n",
    "    \"\"\"\n",
    "    For using cv2, although this currently doesn't work!\n",
    "    \"\"\"\n",
    "    #img = cv2.imread(img)\n",
    "    #b = img[:, :, 0]\n",
    "    #g = img[:, :, 1]\n",
    "    # = img[:, :, 2]\n",
    "    img = cv2.imread(img)\n",
    "    b,g,r = cv2.split(img)\n",
    "    cv2.imshow('Blue', b)\n",
    "    cv2.imshow('Red', b)\n",
    "    cv2.imshow('Green', b)\n",
    "    cv2.waitKey()\n",
    "\n",
    "\n",
    "def adaptive_thresholding(img):\n",
    "    \"\"\"\n",
    "    Credits: https://docs.opencv.org/master/d7/d4d/tutorial_py_thresholding.html\n",
    "    \"\"\"\n",
    "    img = cv2.medianBlur(img,5)\n",
    "    ret,th1 = cv2.threshold(img,127,255,cv2.THRESH_BINARY)\n",
    "    th2 = cv2.adaptiveThreshold(img,255,cv2.ADAPTIVE_THRESH_MEAN_C,\\\n",
    "            cv2.THRESH_BINARY,11,2)\n",
    "    th3 = cv2.adaptiveThreshold(img,255,cv2.ADAPTIVE_THRESH_GAUSSIAN_C,\\\n",
    "            cv2.THRESH_BINARY,11,2)\n",
    "    titles = ['Original Image', 'Global Thresholding (v = 127)',\n",
    "            'Adaptive Mean Thresholding', 'Adaptive Gaussian Thresholding']\n",
    "    images = [img, th1, th2, th3]\n",
    "\n",
    "    #for i in xrange(4):\n",
    "    #    plt.subplot(2,2,i+1),plt.imshow(images[i],'gray')\n",
    "    #    plt.title(titles[i])\n",
    "    #    plt.xticks([]),plt.yticks([])\n",
    "    #plt.show()\n",
    "\n",
    "    return img, th1, th2, th3\n",
    "\n",
    "def watershed(img):\n",
    "    \"\"\"\n",
    "    Credits: https://docs.opencv.org/master/d3/db4/tutorial_py_watershed.html\n",
    "    \"\"\"\n",
    "    #Binarize the image to grayscale\n",
    "    color = cv2.cvtColor(img, cv2.COLOR_GRAY2BGR)\n",
    "    gray = cv2.cvtColor(color,cv2.COLOR_BGR2GRAY)\n",
    "\n",
    "    #gray = cv2.\n",
    "    #print img.type()\n",
    "\n",
    "    #dst = new cv2.Mat();\n",
    "    #cv2.cvtColor(src, dst, cv.COLOR_RGBA2GRAY, 0);\n",
    "    #cv2.imshow('canvasOutput', dst);\n",
    "    #src.delete(); \n",
    "    #dst.delete();\n",
    "    \n",
    "    ret, thresh = cv2.threshold(gray,0,255,cv2.THRESH_BINARY_INV+cv2.THRESH_OTSU)\n",
    "    # noise removal\n",
    "    kernel = np.ones((3,3),np.uint8)\n",
    "    opening = cv2.morphologyEx(thresh,cv2.MORPH_OPEN,kernel, iterations = 2)\n",
    "    # sure background area\n",
    "    sure_bg = cv2.dilate(opening,kernel,iterations=3)\n",
    "    # Finding sure foreground area\n",
    "    dist_transform = cv2.distanceTransform(opening,cv2.DIST_L2,5)\n",
    "    ret, sure_fg = cv2.threshold(dist_transform,0.7*dist_transform.max(),255,0)\n",
    "    # Finding unknown region\n",
    "    sure_fg = np.uint8(sure_fg)\n",
    "    unknown = cv2.subtract(sure_bg,sure_fg)\n",
    "    # Marker labelling\n",
    "    ret, markers = cv2.connectedComponents(sure_fg)\n",
    "    # Add one to all labels so that sure background is not 0, but 1\n",
    "    markers = markers+1\n",
    "    # Now, mark the region of unknown with zero\n",
    "    markers[unknown==255] = 0\n",
    "\n",
    "    markers = cv2.watershed(color,markers)\n",
    "    #img[markers == -1] = [255,0,0]\n",
    "\n",
    "    plt.imshow(img)\n",
    "    plt.title('my picture')\n",
    "    plt.show()\n",
    "    #cv2.imshow(\"Watershed output\", img)\n",
    "\n",
    "    cv2.waitKey()\n",
    "\n",
    "if __name__ == \"__main__\":\n",
    "    \n",
    "    # load image from command line\n",
    "    import sys\n",
    "    # for now we just want an image path as input\n",
    "    if len(sys.argv) != 2:\n",
    "        print(\"usage: {} <image_file>\".format(sys.argv[0]))\n",
    "    \n",
    "    image_name = sys.argv[1]\n",
    "    img = Image.open(image_name)\n",
    "    #split_channels(image_name)\n",
    "    red, green, blue = split_image(img)\n",
    "\n",
    "    red = np.array(red) \n",
    "    blue = np.array(blue)\n",
    "    green = np.array(green)\n",
    "\n",
    "    red_img, red_th1, red_th2, red_th3 = adaptive_thresholding(red)\n",
    "    green_img, green_th1, green_th2, green_th3 = adaptive_thresholding(green)\n",
    "    blue_img, blue_th1, blue_th2, blue_th3 = adaptive_thresholding(blue)\n",
    "\n",
    "    img2 = cv2.imread(image_name)\n",
    "    watershed(red_th1)\n",
    "    watershed(red_th2)\n",
    "\n",
    "\n",
    "\n",
    "\n"
   ]
  },
  {
   "cell_type": "code",
   "execution_count": null,
   "metadata": {},
   "outputs": [],
   "source": []
  }
 ],
 "metadata": {
  "kernelspec": {
   "display_name": "Python 2",
   "language": "python",
   "name": "python2"
  },
  "language_info": {
   "codemirror_mode": {
    "name": "ipython",
    "version": 2
   },
   "file_extension": ".py",
   "mimetype": "text/x-python",
   "name": "python",
   "nbconvert_exporter": "python",
   "pygments_lexer": "ipython2",
   "version": "2.7.16"
  }
 },
 "nbformat": 4,
 "nbformat_minor": 2
}
